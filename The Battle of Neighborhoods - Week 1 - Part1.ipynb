{
 "cells": [
  {
   "cell_type": "markdown",
   "metadata": {},
   "source": [
    "### The Battle of the Neighborhoods - Week 1\n",
    "\n",
    "#### Introduction & Background:\n",
    "\n",
    "The City of Toronto is the most populous city in Canada. The diverse population of Toronto reflects its current and historical role as an important destination for immigrants to Canada. More than 50 percent of residents belong to a visible minority population group, and over 200 distinct ethnic origins are represented among its inhabitants. \n",
    "The city is a prominent center for music, theatre, motion picture and television production. Its economy is highly diversified with strengths in technology, design, financial services, life sciences, education, arts, fashion, business services, environmental innovation, food services, and tourism.\n",
    "\n",
    "Due to its background, market is highly competitive and cost of doing business is obviously one of the highest. Any company looking to start a business in this city should thoroughly analyze all aspects before making a decision. This will help reduce the risk of failure and to yield profit from the business.\n",
    "\n",
    "#### Problem Description:\n",
    "\n",
    "Javari Food Company LLC is looking to open their first Mediterranean restaurant in the city of Toronto. The company has several locations in United States and is looking to expand in Canada. The City of Toronto is famous for its excellent cuisine. The food culture includes an array of international cuisines influenced by the city's immigrant history. \n",
    "\n",
    "The food industry in Toronto is highly competitive, so several factors will influence for a restaurant to be successful:\n",
    "\n",
    "1. Location of the restaurant\n",
    "2. Location of other restaurant serving similar food\n",
    "3. City demographics\n",
    "4. Operating hours\n",
    "5. Other nearby venues – Entertainment zones, Parks, movie theatres that bring more people to the area\n",
    "\n",
    "Company has secured funding to open its first Canadian location, but it is very critical for company to be successful in this location so it can replicate the success to open new locations in Canada.\n",
    "\n",
    "#### Objective:\n",
    "\n",
    "The objective of this project is to analyze, locate and recommend the company’s management which neighborhood in the city of Toronto will be best choice to start their restaurant.\n"
   ]
  },
  {
   "cell_type": "code",
   "execution_count": null,
   "metadata": {},
   "outputs": [],
   "source": []
  }
 ],
 "metadata": {
  "kernelspec": {
   "display_name": "Python 3",
   "language": "python",
   "name": "python3"
  },
  "language_info": {
   "codemirror_mode": {
    "name": "ipython",
    "version": 3
   },
   "file_extension": ".py",
   "mimetype": "text/x-python",
   "name": "python",
   "nbconvert_exporter": "python",
   "pygments_lexer": "ipython3",
   "version": "3.7.1"
  }
 },
 "nbformat": 4,
 "nbformat_minor": 2
}
