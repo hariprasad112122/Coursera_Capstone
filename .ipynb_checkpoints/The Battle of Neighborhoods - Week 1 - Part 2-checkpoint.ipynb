{
 "cells": [
  {
   "cell_type": "markdown",
   "metadata": {},
   "source": [
    "### The Battle of the Neighborhoods - Week 1\n",
    "\n",
    "__City being analyzed:__ Toronto, ON, Canada\n",
    "\n",
    "We will be using the below datasets for analyzing Toronto city:\n",
    "\n",
    "1.\tToronto Postal codes and neighborhood information will be retrieved from the following link:\n",
    "https://en.wikipedia.org/wiki/List_of_postal_codes_of_Canada:_M\n",
    "\n",
    "\n",
    "2.\tToronto city geospatial coordinates data will be utilized as input for the Foursquare API, that will be leveraged to provision venues information for each neighborhood. The geospatial information is retrieved from the link: http://cocl.us/Geospatial_data\n",
    "\n",
    "\n",
    "3.\tNumber of restaurants and their type and location in every neighborhood will be obtained using Foursquare API\n"
   ]
  },
  {
   "cell_type": "code",
   "execution_count": null,
   "metadata": {},
   "outputs": [],
   "source": []
  }
 ],
 "metadata": {
  "kernelspec": {
   "display_name": "Python 3",
   "language": "python",
   "name": "python3"
  },
  "language_info": {
   "codemirror_mode": {
    "name": "ipython",
    "version": 3
   },
   "file_extension": ".py",
   "mimetype": "text/x-python",
   "name": "python",
   "nbconvert_exporter": "python",
   "pygments_lexer": "ipython3",
   "version": "3.7.1"
  }
 },
 "nbformat": 4,
 "nbformat_minor": 2
}
